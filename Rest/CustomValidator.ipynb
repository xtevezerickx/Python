{
 "cells": [
  {
   "cell_type": "code",
   "execution_count": null,
   "metadata": {
    "collapsed": true
   },
   "outputs": [],
   "source": [
    "class GenericDescriptor:\n",
    "    def __init__(self, getter, setter):\n",
    "        self.getter = getter\n",
    "        self.setter = setter\n",
    "\n",
    "    def __get__(self, instance, owner=None):\n",
    "        if instance is None:\n",
    "            return self\n",
    "        return self.getter(instance)\n",
    "\n",
    "    def __set__(self, instance, value):\n",
    "        return self.setter(instance, value)"
   ]
  },
  {
   "cell_type": "code",
   "execution_count": null,
   "metadata": {
    "collapsed": true
   },
   "outputs": [],
   "source": [
    "def NotNull(attr_name):\n",
    "    def decorator(cls):\n",
    "        name = \"__\" + attr_name\n",
    "        def getter(self):\n",
    "            return getattr(self, name)\n",
    "        def setter(self, value):\n",
    "            assert value is not None, (\"O atributo: \" + attr_name + \" Deve ser informado.\")\n",
    "            setattr(self, name, value)\n",
    "        setattr(cls, attr_name, GenericDescriptor(getter, setter))\n",
    "        return cls\n",
    "    return decorator"
   ]
  }
 ],
 "metadata": {
  "kernelspec": {
   "display_name": "Python 3",
   "language": "python",
   "name": "python3"
  },
  "language_info": {
   "codemirror_mode": {
    "name": "ipython",
    "version": 3
   },
   "file_extension": ".py",
   "mimetype": "text/x-python",
   "name": "python",
   "nbconvert_exporter": "python",
   "pygments_lexer": "ipython3",
   "version": "3.6.1"
  }
 },
 "nbformat": 4,
 "nbformat_minor": 2
}
